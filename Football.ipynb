{
 "cells": [
  {
   "cell_type": "markdown",
   "metadata": {},
   "source": [
    "## Импорт библиотек"
   ]
  },
  {
   "cell_type": "code",
   "execution_count": 75,
   "metadata": {},
   "outputs": [],
   "source": [
    "import pandas as pd\n",
    "import random\n",
    "import requests\n",
    "from scipy.cluster.vq import whiten, kmeans2"
   ]
  },
  {
   "cell_type": "markdown",
   "metadata": {},
   "source": [
    "## Функция получения данных"
   ]
  },
  {
   "cell_type": "code",
   "execution_count": 76,
   "metadata": {},
   "outputs": [],
   "source": [
    "# 16 мин\n",
    "def call_api(uri, result_key):\n",
    "    json = {}\n",
    "    try:\n",
    "        json = requests.get(uri, headers = {'X-Auth-Token': '6343e2401b274e4b9d3233b7291115e5'}).json()\n",
    "        return json[result_key]\n",
    "    except:\n",
    "        print(json)\n",
    "        return None"
   ]
  },
  {
   "cell_type": "markdown",
   "metadata": {},
   "source": [
    "## Получаем турнирную таблицу"
   ]
  },
  {
   "cell_type": "code",
   "execution_count": 77,
   "metadata": {},
   "outputs": [
    {
     "data": {
      "text/html": [
       "<div>\n",
       "<style scoped>\n",
       "    .dataframe tbody tr th:only-of-type {\n",
       "        vertical-align: middle;\n",
       "    }\n",
       "\n",
       "    .dataframe tbody tr th {\n",
       "        vertical-align: top;\n",
       "    }\n",
       "\n",
       "    .dataframe thead th {\n",
       "        text-align: right;\n",
       "    }\n",
       "</style>\n",
       "<table border=\"1\" class=\"dataframe\">\n",
       "  <thead>\n",
       "    <tr style=\"text-align: right;\">\n",
       "      <th></th>\n",
       "      <th>lost</th>\n",
       "      <th>name</th>\n",
       "      <th>squadMarketValue</th>\n",
       "    </tr>\n",
       "  </thead>\n",
       "  <tbody>\n",
       "    <tr>\n",
       "      <th>66</th>\n",
       "      <td>1</td>\n",
       "      <td>Manchester United FC</td>\n",
       "      <td>672213</td>\n",
       "    </tr>\n",
       "    <tr>\n",
       "      <th>729</th>\n",
       "      <td>2</td>\n",
       "      <td>FC Basel 1893</td>\n",
       "      <td>228071</td>\n",
       "    </tr>\n",
       "    <tr>\n",
       "      <th>1900</th>\n",
       "      <td>3</td>\n",
       "      <td>PFC CSKA Moskva</td>\n",
       "      <td>162306</td>\n",
       "    </tr>\n",
       "    <tr>\n",
       "      <th>1903</th>\n",
       "      <td>6</td>\n",
       "      <td>Sport Lisboa e Benfica</td>\n",
       "      <td>75355</td>\n",
       "    </tr>\n",
       "    <tr>\n",
       "      <th>5</th>\n",
       "      <td>1</td>\n",
       "      <td>FC Bayern München</td>\n",
       "      <td>927488</td>\n",
       "    </tr>\n",
       "    <tr>\n",
       "      <th>524</th>\n",
       "      <td>1</td>\n",
       "      <td>Paris Saint-Germain FC</td>\n",
       "      <td>546163</td>\n",
       "    </tr>\n",
       "    <tr>\n",
       "      <th>726</th>\n",
       "      <td>5</td>\n",
       "      <td>RSC Anderlecht</td>\n",
       "      <td>142379</td>\n",
       "    </tr>\n",
       "    <tr>\n",
       "      <th>732</th>\n",
       "      <td>5</td>\n",
       "      <td>Celtic FC</td>\n",
       "      <td>125040</td>\n",
       "    </tr>\n",
       "    <tr>\n",
       "      <th>61</th>\n",
       "      <td>1</td>\n",
       "      <td>Chelsea FC</td>\n",
       "      <td>506797</td>\n",
       "    </tr>\n",
       "    <tr>\n",
       "      <th>100</th>\n",
       "      <td>1</td>\n",
       "      <td>AS Roma</td>\n",
       "      <td>611514</td>\n",
       "    </tr>\n",
       "    <tr>\n",
       "      <th>78</th>\n",
       "      <td>1</td>\n",
       "      <td>Club Atlético de Madrid</td>\n",
       "      <td>330796</td>\n",
       "    </tr>\n",
       "    <tr>\n",
       "      <th>611</th>\n",
       "      <td>4</td>\n",
       "      <td>Qarabağ Ağdam FK</td>\n",
       "      <td>155317</td>\n",
       "    </tr>\n",
       "    <tr>\n",
       "      <th>81</th>\n",
       "      <td>0</td>\n",
       "      <td>FC Barcelona</td>\n",
       "      <td>119779</td>\n",
       "    </tr>\n",
       "    <tr>\n",
       "      <th>109</th>\n",
       "      <td>1</td>\n",
       "      <td>Juventus FC</td>\n",
       "      <td>474042</td>\n",
       "    </tr>\n",
       "    <tr>\n",
       "      <th>498</th>\n",
       "      <td>3</td>\n",
       "      <td>Sporting Clube de Portugal</td>\n",
       "      <td>292653</td>\n",
       "    </tr>\n",
       "    <tr>\n",
       "      <th>654</th>\n",
       "      <td>5</td>\n",
       "      <td>PAE Olympiakos SFP</td>\n",
       "      <td>91711</td>\n",
       "    </tr>\n",
       "    <tr>\n",
       "      <th>64</th>\n",
       "      <td>0</td>\n",
       "      <td>Liverpool FC</td>\n",
       "      <td>156441</td>\n",
       "    </tr>\n",
       "    <tr>\n",
       "      <th>559</th>\n",
       "      <td>1</td>\n",
       "      <td>Sevilla FC</td>\n",
       "      <td>793747</td>\n",
       "    </tr>\n",
       "    <tr>\n",
       "      <th>754</th>\n",
       "      <td>2</td>\n",
       "      <td>FK Spartak Moskva</td>\n",
       "      <td>375868</td>\n",
       "    </tr>\n",
       "    <tr>\n",
       "      <th>734</th>\n",
       "      <td>3</td>\n",
       "      <td>NK Maribor</td>\n",
       "      <td>282407</td>\n",
       "    </tr>\n",
       "    <tr>\n",
       "      <th>65</th>\n",
       "      <td>1</td>\n",
       "      <td>Manchester City FC</td>\n",
       "      <td>669984</td>\n",
       "    </tr>\n",
       "    <tr>\n",
       "      <th>1887</th>\n",
       "      <td>2</td>\n",
       "      <td>FK Shakhtar Donetsk</td>\n",
       "      <td>134354</td>\n",
       "    </tr>\n",
       "    <tr>\n",
       "      <th>113</th>\n",
       "      <td>4</td>\n",
       "      <td>SSC Napoli</td>\n",
       "      <td>25091</td>\n",
       "    </tr>\n",
       "    <tr>\n",
       "      <th>675</th>\n",
       "      <td>5</td>\n",
       "      <td>Feyenoord Rotterdam</td>\n",
       "      <td>149358</td>\n",
       "    </tr>\n",
       "    <tr>\n",
       "      <th>600</th>\n",
       "      <td>0</td>\n",
       "      <td>Beşiktaş JK</td>\n",
       "      <td>395746</td>\n",
       "    </tr>\n",
       "    <tr>\n",
       "      <th>503</th>\n",
       "      <td>2</td>\n",
       "      <td>FC Porto</td>\n",
       "      <td>463866</td>\n",
       "    </tr>\n",
       "    <tr>\n",
       "      <th>721</th>\n",
       "      <td>3</td>\n",
       "      <td>RB Leipzig</td>\n",
       "      <td>321803</td>\n",
       "    </tr>\n",
       "    <tr>\n",
       "      <th>548</th>\n",
       "      <td>4</td>\n",
       "      <td>AS Monaco FC</td>\n",
       "      <td>239228</td>\n",
       "    </tr>\n",
       "    <tr>\n",
       "      <th>73</th>\n",
       "      <td>0</td>\n",
       "      <td>Tottenham Hotspur FC</td>\n",
       "      <td>75236</td>\n",
       "    </tr>\n",
       "    <tr>\n",
       "      <th>86</th>\n",
       "      <td>1</td>\n",
       "      <td>Real Madrid CF</td>\n",
       "      <td>386188</td>\n",
       "    </tr>\n",
       "    <tr>\n",
       "      <th>4</th>\n",
       "      <td>4</td>\n",
       "      <td>BV Borussia 09 Dortmund</td>\n",
       "      <td>121180</td>\n",
       "    </tr>\n",
       "    <tr>\n",
       "      <th>752</th>\n",
       "      <td>4</td>\n",
       "      <td>APOEL FC</td>\n",
       "      <td>96809</td>\n",
       "    </tr>\n",
       "  </tbody>\n",
       "</table>\n",
       "</div>"
      ],
      "text/plain": [
       "     lost                        name squadMarketValue\n",
       "66      1        Manchester United FC           672213\n",
       "729     2               FC Basel 1893           228071\n",
       "1900    3             PFC CSKA Moskva           162306\n",
       "1903    6      Sport Lisboa e Benfica            75355\n",
       "5       1           FC Bayern München           927488\n",
       "524     1      Paris Saint-Germain FC           546163\n",
       "726     5              RSC Anderlecht           142379\n",
       "732     5                   Celtic FC           125040\n",
       "61      1                  Chelsea FC           506797\n",
       "100     1                     AS Roma           611514\n",
       "78      1     Club Atlético de Madrid           330796\n",
       "611     4            Qarabağ Ağdam FK           155317\n",
       "81      0                FC Barcelona           119779\n",
       "109     1                 Juventus FC           474042\n",
       "498     3  Sporting Clube de Portugal           292653\n",
       "654     5          PAE Olympiakos SFP            91711\n",
       "64      0                Liverpool FC           156441\n",
       "559     1                  Sevilla FC           793747\n",
       "754     2           FK Spartak Moskva           375868\n",
       "734     3                  NK Maribor           282407\n",
       "65      1          Manchester City FC           669984\n",
       "1887    2         FK Shakhtar Donetsk           134354\n",
       "113     4                  SSC Napoli            25091\n",
       "675     5         Feyenoord Rotterdam           149358\n",
       "600     0                 Beşiktaş JK           395746\n",
       "503     2                    FC Porto           463866\n",
       "721     3                  RB Leipzig           321803\n",
       "548     4                AS Monaco FC           239228\n",
       "73      0        Tottenham Hotspur FC            75236\n",
       "86      1              Real Madrid CF           386188\n",
       "4       4     BV Borussia 09 Dortmund           121180\n",
       "752     4                    APOEL FC            96809"
      ]
     },
     "execution_count": 77,
     "metadata": {},
     "output_type": "execute_result"
    }
   ],
   "source": [
    "standings = call_api('http://api.football-data.org/v2/competitions/2001/standings', 'standings')\n",
    "teams_info = {}\n",
    "for table in standings:\n",
    "    for team in table['table']:\n",
    "        if team['lost'] == 0:\n",
    "            k = 1\n",
    "        else:\n",
    "            k = team['lost']\n",
    "        squadMarketValue = random.randint(10000 // k, 1000000 // k)\n",
    "        if team['team']['id'] in teams_info:\n",
    "            if team['lost'] > teams_info[team['team']['id']]['lost']:\n",
    "                teams_info[team['team']['id']]['lost'] = team['lost']\n",
    "                teams_info[team['team']['id']]['squadMarketValue'] = squadMarketValue\n",
    "        else:\n",
    "            teams_info[team['team']['id']] = {'name': team['team']['name'],\n",
    "                                              'lost': team['lost'],\n",
    "                                              'squadMarketValue': squadMarketValue}\n",
    "teams_pd = pd.DataFrame(teams_info).T\n",
    "teams_pd"
   ]
  },
  {
   "cell_type": "markdown",
   "metadata": {},
   "source": [
    "## Исследуем"
   ]
  },
  {
   "cell_type": "code",
   "execution_count": 78,
   "metadata": {},
   "outputs": [
    {
     "data": {
      "text/plain": [
       "<matplotlib.axes._subplots.AxesSubplot at 0x1864567c978>"
      ]
     },
     "execution_count": 78,
     "metadata": {},
     "output_type": "execute_result"
    },
    {
     "data": {
      "image/png": "[encoded data removed]",
      "text/plain": [
       "<Figure size 432x288 with 1 Axes>"
      ]
     },
     "metadata": {},
     "output_type": "display_data"
    }
   ],
   "source": [
    "teams_pd['lost'] = pd.to_numeric(teams_pd['lost'])\n",
    "teams_pd['squadMarketValue'] = pd.to_numeric(teams_pd['squadMarketValue'])\n",
    "del teams_pd['name']\n",
    "teams_pd.plot.scatter(x='lost', y='squadMarketValue', s=100)"
   ]
  },
  {
   "cell_type": "markdown",
   "metadata": {},
   "source": [
    "## Анализ 3-х и 5-и кластеров"
   ]
  },
  {
   "cell_type": "code",
   "execution_count": 79,
   "metadata": {},
   "outputs": [
    {
     "data": {
      "image/png": "[encoded data removed]",
      "text/plain": [
       "<Figure size 432x288 with 1 Axes>"
      ]
     },
     "metadata": {},
     "output_type": "display_data"
    },
    {
     "data": {
      "image/png": "[encoded data removed]",
      "text/plain": [
       "<Figure size 432x288 with 1 Axes>"
      ]
     },
     "metadata": {},
     "output_type": "display_data"
    }
   ],
   "source": [
    "for i in [3, 5]:\n",
    "    whitened = whiten(teams_pd.values)\n",
    "    centroids, cluster_map = kmeans2(whitened, i)\n",
    "    colors_map = {0: 'r', 1: 'g', 2: 'b', 3: 'y', 4: 'm'}\n",
    "    colors = [colors_map[c] for c in cluster_map]\n",
    "    teams_pd.plot.scatter(x='lost', y='squadMarketValue', c=colors, s=100)\n"
   ]
  }
 ],
 "metadata": {
  "kernelspec": {
   "display_name": "Python 3",
   "language": "python",
   "name": "python3"
  },
  "language_info": {
   "codemirror_mode": {
    "name": "ipython",
    "version": 3
   },
   "file_extension": ".py",
   "mimetype": "text/x-python",
   "name": "python",
   "nbconvert_exporter": "python",
   "pygments_lexer": "ipython3",
   "version": "3.6.5"
  }
 },
 "nbformat": 4,
 "nbformat_minor": 2
}
